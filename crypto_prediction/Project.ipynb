{
 "cells": [
  {
   "cell_type": "code",
   "execution_count": 1,
   "metadata": {},
   "outputs": [
    {
     "name": "stdout",
     "output_type": "stream",
     "text": [
      "[{'time': 1512518400, 'high': 456.87, 'low': 413.13, 'open': 453.96, 'volumefrom': 1074639.32, 'volumeto': 470223347.34, 'close': 422.48, 'conversionType': 'direct', 'conversionSymbol': ''}, {'time': 1512604800, 'high': 434.85, 'low': 404.16, 'open': 422.39, 'volumefrom': 992479.84, 'volumeto': 416652301.63, 'close': 421.15, 'conversionType': 'direct', 'conversionSymbol': ''}, {'time': 1512691200, 'high': 461.1, 'low': 410.33, 'open': 420.76, 'volumefrom': 1095872.72, 'volumeto': 479837604.63, 'close': 451.74, 'conversionType': 'direct', 'conversionSymbol': ''}, {'time': 1512777600, 'high': 507.36, 'low': 448.09, 'open': 451.78, 'volumefrom': 1093313.72, 'volumeto': 522718280.71, 'close': 472.86, 'conversionType': 'direct', 'conversionSymbol': ''}, {'time': 1512864000, 'high': 472.78, 'low': 428.3, 'open': 472.31, 'volumefrom': 694853.93, 'volumeto': 307733091.95, 'close': 436.49, 'conversionType': 'direct', 'conversionSymbol': ''}, {'time': 1512950400, 'high': 519.35, 'low': 436.01, 'open': 436.54, 'volumefrom': 758921.64, 'volumeto': 359245523.6, 'close': 513.29, 'conversionType': 'direct', 'conversionSymbol': ''}, {'time': 1513036800, 'high': 678.25, 'low': 499.57, 'open': 513.36, 'volumefrom': 1760917.56, 'volumeto': 997267993.61, 'close': 656.52, 'conversionType': 'direct', 'conversionSymbol': ''}, {'time': 1513123200, 'high': 755.07, 'low': 593.89, 'open': 656.52, 'volumefrom': 1964686.27, 'volumeto': 1324617349.11, 'close': 699.09, 'conversionType': 'direct', 'conversionSymbol': ''}, {'time': 1513209600, 'high': 751.68, 'low': 662.29, 'open': 699.09, 'volumefrom': 1133303.76, 'volumeto': 806129945.07, 'close': 693.58, 'conversionType': 'direct', 'conversionSymbol': ''}, {'time': 1513296000, 'high': 696.89, 'low': 614.33, 'open': 693.58, 'volumefrom': 954510.93, 'volumeto': 633348317.08, 'close': 684.27, 'conversionType': 'direct', 'conversionSymbol': ''}]\n"
     ]
    }
   ],
   "source": [
    "import requests\n",
    "import json\n",
    "\n",
    "# Define the endpoint for the CryptoCompare API\n",
    "url = 'https://min-api.cryptocompare.com/data/histoday'\n",
    "\n",
    "# Define the parameters for the API request\n",
    "parameters = {\n",
    "    'fsym': 'ETH',\n",
    "    'tsym': 'USD',\n",
    "    'limit': '2000'\n",
    "}\n",
    "\n",
    "# Make the API request\n",
    "response = requests.get(url, params=parameters)\n",
    "\n",
    "# Parse the response\n",
    "data = json.loads(response.text)\n",
    "\n",
    "# Print the historical data\n",
    "print(data['Data'][:10])  # Only Showing first 10 values just for confirmation\n",
    "\n",
    "# The data variable contains 2000 records which have been extrected from the CryptoCompare API\n",
    "# Note: This Free web-API doesn't allow us to extract more than 2000 records\n"
   ]
  },
  {
   "cell_type": "code",
   "execution_count": 2,
   "metadata": {},
   "outputs": [],
   "source": [
    "import pandas as pd\n",
    "\n",
    "# Load the data into a pandas DataFrame\n",
    "df = pd.DataFrame(data['Data'])\n",
    "\n",
    "# Convert the DataFrame to a CSV file\n",
    "df.to_csv('eth_data.csv', index=False)\n"
   ]
  },
  {
   "cell_type": "code",
   "execution_count": 3,
   "metadata": {},
   "outputs": [
    {
     "name": "stdout",
     "output_type": "stream",
     "text": [
      "[3000.83        112.66       2556.41        243.66       2233.57\n",
      " 2706.52        226.59       1557.54        877.88        378.44\n",
      " 1111.31        352.61       4135.31        268.99         84.3\n",
      "  215.69        132.31        494.96       4299.27       2547.03\n",
      "  180.88       2228.67       2772.84        604.98       1296.63\n",
      "  610.56        568.26        317.5         212.87000001  944.83\n",
      "  188.43       2196.71        294.14       2066.55       1315.47\n",
      "  135.56       2940.31       3490.61       1699.89        317.57\n",
      "  399.02       1763.2         278.31        226.64000001 2742.48\n",
      " 2966.51        157.09       1866.8         920.11        320.19\n",
      " 1472.51        332.28        638.17        469.93        242.66\n",
      " 1552.71        346.94       1697.52       1426.4         116.24\n",
      " 1379.35        180.72       2760.2         616.14       1822.22\n",
      " 1189.27        132.83       1213.98        448.78        227.84\n",
      "  136.64        140.87       3168.91        393.11        129.02\n",
      "  202.43       3961.96        183.65         94.49       1294.92\n",
      "  840.98       2301.12       1198.4        2557.57       1438.01\n",
      " 3945.57       1104.17        143.49        211.27       1774.69\n",
      " 3266.71        169.89        467.19        231.32       1663.97\n",
      " 3146.36        210.38       2369.67        383.34       1738.86      ]\n"
     ]
    }
   ],
   "source": [
    "from sklearn.linear_model import LinearRegression\n",
    "from sklearn.model_selection import train_test_split\n",
    "import pandas as pd\n",
    "\n",
    "# Load the data into a pandas DataFrame\n",
    "df = pd.read_csv('eth_data.csv')\n",
    "\n",
    "# Define the features and target\n",
    "X = df[['high', 'low', 'open','volumefrom','volumeto', 'close']]\n",
    "y = df['close']\n",
    "\n",
    "# Split the data into training and test sets\n",
    "X_train, X_test, y_train, y_test = train_test_split(X, y, test_size=0.2, random_state=42)\n",
    "\n",
    "# Create a Linear Regression model\n",
    "model = LinearRegression()\n",
    "\n",
    "# Train the model on the training data\n",
    "model.fit(X_train, y_train)\n",
    "\n",
    "# Use the model to make predictions on the test data\n",
    "y_pred = model.predict(X_test)\n",
    "\n",
    "print(y_pred[:100])   #Only Showing first 30 predictions just for confirmation"
   ]
  },
  {
   "cell_type": "code",
   "execution_count": 4,
   "metadata": {},
   "outputs": [
    {
     "name": "stdout",
     "output_type": "stream",
     "text": [
      "R^2 score: 1.0\n"
     ]
    }
   ],
   "source": [
    "# Evaluate the model's performance\n",
    "score = model.score(X_test, y_test)\n",
    "print(f'R^2 score: {score}')\n"
   ]
  },
  {
   "cell_type": "code",
   "execution_count": 5,
   "metadata": {},
   "outputs": [
    {
     "data": {
      "text/plain": [
       "401"
      ]
     },
     "execution_count": 5,
     "metadata": {},
     "output_type": "execute_result"
    }
   ],
   "source": [
    "# Make predictions using the trained model\n",
    "import sqlite3\n",
    "y_pred = model.predict(X_test)\n",
    "\n",
    "# Convert predictions to a DataFrame\n",
    "predictions_df = pd.DataFrame(y_pred, columns=['predicted_price'])\n",
    "\n",
    "# Import the SQLite3 library\n",
    "\n",
    "# Connect to a SQLite database\n",
    "conn = sqlite3.connect('predictions.db')\n",
    "\n",
    "# Store the predictions in a SQLite table\n",
    "predictions_df.to_sql('predictions', conn, if_exists='replace')\n"
   ]
  },
  {
   "cell_type": "code",
   "execution_count": 6,
   "metadata": {},
   "outputs": [
    {
     "name": "stdout",
     "output_type": "stream",
     "text": [
      "   index  predicted_price\n",
      "0      0          3000.83\n",
      "1      1           112.66\n",
      "2      2          2556.41\n",
      "3      3           243.66\n",
      "4      4          2233.57\n"
     ]
    }
   ],
   "source": [
    "# Read the 'predictions' table into a DataFrame\n",
    "predictions_df = pd.read_sql_query('SELECT * FROM predictions', conn)\n",
    "\n",
    "# Print the first 5 rows of the DataFrame\n",
    "print(predictions_df.head())\n"
   ]
  },
  {
   "cell_type": "code",
   "execution_count": 7,
   "metadata": {},
   "outputs": [
    {
     "name": "stdout",
     "output_type": "stream",
     "text": [
      "MAE: 1.6375713641849998e-09\n",
      "MSE: 4.244947673443623e-18\n",
      "RMSE: 2.0603270792385425e-09\n"
     ]
    }
   ],
   "source": [
    "from sklearn.metrics import mean_absolute_error, mean_squared_error\n",
    "from math import sqrt\n",
    "import matplotlib.pyplot as plt\n",
    "\n",
    "# Calculate MAE\n",
    "mae = mean_absolute_error(y_test, predictions_df['predicted_price'])\n",
    "\n",
    "# Calculate MSE\n",
    "mse = mean_squared_error(y_test, predictions_df['predicted_price'])\n",
    "\n",
    "# Calculate RMSE\n",
    "rmse = sqrt(mse)\n",
    "\n",
    "# Print the results\n",
    "print(f'MAE: {mae}')\n",
    "print(f'MSE: {mse}')\n",
    "print(f'RMSE: {rmse}')\n"
   ]
  },
  {
   "cell_type": "code",
   "execution_count": 8,
   "metadata": {},
   "outputs": [
    {
     "name": "stdout",
     "output_type": "stream",
     "text": [
      "R-squared score: 1.0\n"
     ]
    }
   ],
   "source": [
    "from sklearn.metrics import r2_score\n",
    "\n",
    "# Calculate R-squared score\n",
    "r2 = r2_score(y_test, predictions_df['predicted_price'])\n",
    "\n",
    "# Print the R-squared score\n",
    "print(f'R-squared score: {r2}')\n"
   ]
  }
 ],
 "metadata": {
  "kernelspec": {
   "display_name": "Python 3",
   "language": "python",
   "name": "python3"
  },
  "language_info": {
   "codemirror_mode": {
    "name": "ipython",
    "version": 3
   },
   "file_extension": ".py",
   "mimetype": "text/x-python",
   "name": "python",
   "nbconvert_exporter": "python",
   "pygments_lexer": "ipython3",
   "version": "3.11.3"
  },
  "orig_nbformat": 4
 },
 "nbformat": 4,
 "nbformat_minor": 2
}
